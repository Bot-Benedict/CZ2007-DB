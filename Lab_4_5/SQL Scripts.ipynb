{
 "cells": [
  {
   "cell_type": "markdown",
   "metadata": {},
   "source": [
    "### To ammend with ; at last line: \n",
    "* Product_in_Orders\n",
    "* Product_in_Shops\n",
    "* Price_History\n",
    "* PIO_in_Orders"
   ]
  },
  {
   "cell_type": "code",
   "execution_count": 2,
   "metadata": {},
   "outputs": [],
   "source": [
    "import random\n",
    "from datetime import datetime\n",
    "from datetime import timedelta\n",
    "\n",
    "random.seed(30)"
   ]
  },
  {
   "cell_type": "code",
   "execution_count": 3,
   "metadata": {},
   "outputs": [],
   "source": [
    "def random_date():\n",
    "    d1 = datetime.strptime('2020-08-01 00:00:00', '%Y-%m-%d %H:%M:%S')\n",
    "    d2 = datetime.strptime('2020-12-31 23:59:59', '%Y-%m-%d %H:%M:%S')\n",
    "    delta = d2 - d1\n",
    "    int_delta = (delta.days * 24 * 60 * 60) + delta.seconds\n",
    "    random_second = random.randrange(int_delta)\n",
    "    return d1 + timedelta(seconds=random_second)"
   ]
  },
  {
   "cell_type": "code",
   "execution_count": 4,
   "metadata": {},
   "outputs": [],
   "source": [
    "Products = [\n",
    "('iPhone 7', 'Apple', 'Phone'),\n",
    "('iPhone 8', 'Apple', 'Phone'),\n",
    "('iPhone X', 'Apple', 'Phone'),\n",
    "('iPad Pro 2020', 'Apple', 'Tablet'),\n",
    "('Pixel 3', 'Google', 'Phone'),\n",
    "('Pixel 4', 'Google', 'Phone'),\n",
    "('Pixel 5', 'Google', 'Phone'),\n",
    "('Galaxy Note 20', 'Samsung', 'Phone'),\n",
    "('Galaxy Note Tab S7', 'Samsung', 'Tablet'),\n",
    "('Galaxy Note A71', 'Samsung', 'Phone'),\n",
    "('Galaxy Fold', 'Samsung', 'Phone')\n",
    "]"
   ]
  },
  {
   "cell_type": "code",
   "execution_count": 5,
   "metadata": {},
   "outputs": [],
   "source": [
    "f = open(\"Products_Script.sql\", \"w\")\n",
    "f.write(\"INSERT INTO Products\\nVALUES\\n\")\n",
    "for i in range(len(Products)):\n",
    "    if i == len(Products)-1:\n",
    "        f.write(str(Products[i])+\";\\n\")\n",
    "    else:\n",
    "        f.write(str(Products[i])+\",\\n\") \n",
    "f.close()"
   ]
  },
  {
   "cell_type": "code",
   "execution_count": 6,
   "metadata": {},
   "outputs": [],
   "source": [
    "status = ['Processing', 'Delivering', 'Delivered']"
   ]
  },
  {
   "cell_type": "code",
   "execution_count": 8,
   "metadata": {},
   "outputs": [],
   "source": [
    "Shops = {\n",
    "'Electroniks':[\n",
    "    ('iPhone 7', 'Apple', 'Phone', '780.24'),\n",
    "    ('iPhone 8', 'Apple', 'Phone', '830.53'),\n",
    "    ('iPhone X', 'Apple', 'Phone', '999.99'),\n",
    "    ('iPad Pro 2020', 'Apple', 'Tablet', '1253.20'),\n",
    "    ('Pixel 3', 'Google', 'Phone', '532.73'),\n",
    "    ('Pixel 4', 'Google', 'Phone', '664.23'),\n",
    "    ('Pixel 5', 'Google', 'Phone', '767.86'),\n",
    "    ('Galaxy Note 20', 'Samsung', 'Phone', '555.35'),\n",
    "    ('Galaxy Note Tab S7', 'Samsung', 'Tablet', '683.62'),\n",
    "    ('Galaxy Note A71', 'Samsung', 'Phone', '888.88'),\n",
    "    ('Galaxy Fold', 'Samsung', 'Phone', '1420.51')\n",
    "    ],\n",
    "'Shopping Paradise':[\n",
    "    ('iPhone 7', 'Apple', 'Phone', '760.57'),\n",
    "    ('iPhone 8', 'Apple', 'Phone', '802.50'),\n",
    "    ('iPhone X', 'Apple', 'Phone', '1101.98'),\n",
    "    ('iPad Pro 2020', 'Apple', 'Tablet', '1500.00'),\n",
    "    ('Pixel 3', 'Google', 'Phone', '500.20'),\n",
    "    ('Pixel 4', 'Google', 'Phone', '555.55'),\n",
    "    ('Pixel 5', 'Google', 'Phone', '780.22')\n",
    "    ],\n",
    "'COURTS':[\n",
    "    ('iPhone 7', 'Apple', 'Phone', '777.77'),\n",
    "    ('iPhone 8', 'Apple', 'Phone', '824.59'),\n",
    "    ('iPhone X', 'Apple', 'Phone', '1000.27'),\n",
    "    ('iPad Pro 2020', 'Apple', 'Tablet', '1323.23'),\n",
    "    ('Galaxy Note 20', 'Samsung', 'Phone', '525.25'),\n",
    "    ('Galaxy Note Tab S7', 'Samsung', 'Tablet', '677.98'),\n",
    "    ('Galaxy Note A71', 'Samsung', 'Phone', '876.68'),\n",
    "    ('Galaxy Fold', 'Samsung', 'Phone', '1413.66')\n",
    "    ],\n",
    "    \n",
    "'Challenger':[\n",
    "    ('Pixel 3', 'Google', 'Phone', '512.69'),\n",
    "    ('Pixel 4', 'Google', 'Phone', '580.93'),\n",
    "    ('Pixel 5', 'Google', 'Phone', '765.75'),\n",
    "    ('Galaxy Note 20', 'Samsung', 'Phone', '520.22'),\n",
    "    ('Galaxy Note Tab S7', 'Samsung', 'Tablet', '700.77'),\n",
    "    ('Galaxy Note A71', 'Samsung', 'Phone', '855.21'),\n",
    "    ('Galaxy Fold', 'Samsung', 'Phone', '1423.89')\n",
    "    ]\n",
    "}"
   ]
  },
  {
   "cell_type": "code",
   "execution_count": 9,
   "metadata": {},
   "outputs": [
    {
     "name": "stdout",
     "output_type": "stream",
     "text": [
      "('Electroniks',)\n",
      "('Shopping Paradise',)\n",
      "('COURTS',)\n",
      "('Challenger',)\n"
     ]
    }
   ],
   "source": [
    "a = Shops.keys()\n",
    "for item in a:\n",
    "    _tuple = []\n",
    "    _tuple.append(item)\n",
    "    print(tuple(_tuple))"
   ]
  },
  {
   "cell_type": "code",
   "execution_count": 10,
   "metadata": {},
   "outputs": [
    {
     "name": "stdout",
     "output_type": "stream",
     "text": [
      "711\n",
      "800\n"
     ]
    }
   ],
   "source": [
    "# Products in Order Table\n",
    "\n",
    "# Hacking this part due to time constraint. Not optimal code.. at all.\n",
    "Product_in_Order = []\n",
    "for shop, catalogue in Shops.items():\n",
    "    for i in range (200):\n",
    "        item = catalogue[random.randrange(len(catalogue))]\n",
    "        stat = status[random.randrange(len(status))]\n",
    "        number_ordered = str(random.randrange(1, 7))\n",
    "        \n",
    "        Product_in_Order_Item = [None]*9\n",
    "        Product_in_Order_Item[0] = item[0]\n",
    "        Product_in_Order_Item[1] = shop\n",
    "        Product_in_Order_Item[2] = \"Order_#\" + str(random.randrange(200))\n",
    "        if stat == 'Delivered':\n",
    "            Product_in_Order_Item[3] = str(random_date())\n",
    "        Product_in_Order_Item[4] = number_ordered\n",
    "        Product_in_Order_Item[5] = str(round(float(item[3])*int(number_ordered), 2))\n",
    "        Product_in_Order_Item[6] = stat\n",
    "        Product_in_Order_Item[7] = item[1]\n",
    "        Product_in_Order_Item[8] = item[2]\n",
    "        Product_in_Order.append(Product_in_Order_Item)\n",
    "\n",
    "Final_Product_in_Order = []\n",
    "for i in range(len(Product_in_Order)):\n",
    "    flag = 1\n",
    "    for j in range(len(Product_in_Order)):\n",
    "        if i == j:\n",
    "            continue\n",
    "        if (Product_in_Order[i][0] == Product_in_Order[j][0] and\n",
    "        Product_in_Order[i][1] == Product_in_Order[j][1] and\n",
    "        Product_in_Order[i][2] == Product_in_Order[j][2]):\n",
    "            flag = 0\n",
    "            break\n",
    "    if flag == 1:\n",
    "        Final_Product_in_Order.append(Product_in_Order[i])\n",
    "\n",
    "print(len(Final_Product_in_Order))\n",
    "print(len(Product_in_Order))\n",
    "f = open(\"Product_in_Orders_Script.sql\", \"w\")\n",
    "f.write(\"INSERT INTO Product_in_Orders\\nVALUES\\n\")\n",
    "for item in Final_Product_in_Order:\n",
    "    f.write(str(tuple(item))+\",\\n\")\n",
    "f.close()"
   ]
  },
  {
   "cell_type": "code",
   "execution_count": 11,
   "metadata": {},
   "outputs": [],
   "source": [
    "# Products in Shops Table\n",
    "f = open(\"Product_in_Shops_Script.sql\", \"w\")\n",
    "f.write(\"INSERT INTO Product_in_Shops\\nVALUES\\n\")\n",
    "\n",
    "for shop, catalogue in Shops.items():\n",
    "    for item in catalogue:\n",
    "        _to_add = [None]*6\n",
    "        \n",
    "        _to_add[0] = item[0]\n",
    "        _to_add[1] = shop\n",
    "        _to_add[2] = float(item[3])\n",
    "        _to_add[3] = random.randrange(30, 65)\n",
    "        _to_add[4] = item[1]\n",
    "        _to_add[5] = item[2]\n",
    "        _to_add = str(tuple(_to_add))\n",
    "        f.write(_to_add+\",\\n\")\n",
    "f.close()        "
   ]
  },
  {
   "cell_type": "code",
   "execution_count": 12,
   "metadata": {},
   "outputs": [],
   "source": [
    "import pandas as pd\n",
    "\n",
    "addresses = pd.read_csv('random_addresses.csv', encoding='utf-8')\n",
    "UID_Shipping = {}\n",
    "for i in range(50):\n",
    "    address = \"\"\n",
    "    for item in addresses.iloc[i]:\n",
    "        address += \" \" + str(item)\n",
    "        \n",
    "    UID_Shipping[i] = address[1:]   "
   ]
  },
  {
   "cell_type": "code",
   "execution_count": 13,
   "metadata": {},
   "outputs": [],
   "source": [
    "namelist = [\n",
    "'Brenda Chipps', 'Fredda Hepner', 'Michell Hard', 'Benita Heinz',\n",
    "'Lavonda Debonis', 'Camie Salazar', 'Ricky Kilbourne', 'Wallace Jusino',\n",
    "'Waneta Reay', 'Autumn Jeanlouis', 'Glady Milstead', 'Nia Francisco',\n",
    "'Shalanda Thornell', 'Jacob Randolph', 'Gina Persinger', 'Lauren Banas',\n",
    "'Madonna Korn', 'Camille Samayoa', 'Virgie Holston', 'Tonette Lathrop',\n",
    "'Amparo Antonio', 'Maritza Stoffel', 'Kristin Horwitz', 'Maribeth Bransford',\n",
    "'Iva Swilley', 'Karly Molitor', 'Remona Bye', 'Winifred Spikes', 'Owen Philbeck',\n",
    "'Lecia Pero', 'Hailey Ansley', 'Harriette Ferro', 'Glayds Ebersole',\n",
    "'Arnulfo Nalls', 'Rebbeca Marquart', 'Kristi Arriaga', 'Evelyn Fiore',\n",
    "'Cari Stocks', 'Milly Relyea', 'Charlie Hinton', 'Gonzalo Rawlinson',\n",
    "'Taunya Jeffery', 'Laureen Hanzlik', 'Carolee Gritton', 'Matilda Baril',\n",
    "'Carlyn Devaney'\n",
    "]"
   ]
  },
  {
   "cell_type": "code",
   "execution_count": 14,
   "metadata": {},
   "outputs": [],
   "source": [
    "# Users Table\n",
    "\n",
    "f = open(\"Users_Script.sql\", \"w\")\n",
    "f.write(\"INSERT INTO Users\\nVALUES\\n\")\n",
    "\n",
    "for i in range(50):\n",
    "    _to_add = [None]*2\n",
    "    _to_add[0] = \"User_\"+str(i)\n",
    "    _to_add[1] = random.choice(namelist)\n",
    "    _to_add = str(tuple(_to_add))\n",
    "    if i == 49:\n",
    "        f.write(_to_add+\";\")\n",
    "    else:\n",
    "        f.write(_to_add+\",\\n\")\n",
    "f.close()   "
   ]
  },
  {
   "cell_type": "code",
   "execution_count": 15,
   "metadata": {},
   "outputs": [],
   "source": [
    "# Orders Table\n",
    "\n",
    "f = open(\"Orders_Script.sql\", \"w\", encoding=\"utf-8\")\n",
    "f.write(\"INSERT INTO Orders\\nVALUES\\n\")\n",
    "\n",
    "for i in range(200):\n",
    "    _to_add = [None]*3\n",
    "    user_num = random.randrange(50)\n",
    "    \n",
    "    _to_add[0] = \"Order_#\"+str(i)\n",
    "    _to_add[1] = \"User_\"+str(user_num)\n",
    "    _to_add[2] = UID_Shipping[user_num]\n",
    "    _to_add = str(tuple(_to_add))\n",
    "    if i == 199:\n",
    "        f.write(_to_add+\";\")\n",
    "    else:\n",
    "        f.write(_to_add+\",\\n\")\n",
    "f.close()   "
   ]
  },
  {
   "cell_type": "code",
   "execution_count": 16,
   "metadata": {},
   "outputs": [],
   "source": [
    "# Employee Table\n",
    "\n",
    "f = open(\"Employees_Script.sql\", \"w\")\n",
    "f.write(\"INSERT INTO Employees\\nVALUES\\n\")\n",
    "for i in range(10):\n",
    "    _to_add = [None]*3\n",
    "    _to_add[0] = \"Employee_\"+str(i)\n",
    "    _to_add[1] = namelist[i+10]\n",
    "    _to_add[2] = round(10000*random.uniform(0.5, 1), 2)\n",
    "    _to_add = str(tuple(_to_add))\n",
    "    if i == 9:\n",
    "        f.write(_to_add+\";\")\n",
    "    else:\n",
    "        f.write(_to_add+\",\\n\")\n",
    "f.close() "
   ]
  },
  {
   "cell_type": "code",
   "execution_count": 17,
   "metadata": {},
   "outputs": [],
   "source": [
    "complaint_str = 'Lorem ipsum dolor sit amet, consectetur adipiscing elit, sed do eiusmod tempor incididunt ut labore et dolore magna aliqua. Eget est lorem ipsum dolor sit amet. Nisl vel pretium lectus quam id leo. Ornare arcu dui vivamus arcu felis bibendum ut tristique et. Neque egestas congue quisque egestas. Id diam maecenas ultricies mi eget mauris pharetra. Odio eu feugiat pretium nibh ipsum consequat. Semper viverra nam libero justo laoreet sit amet. Convallis a cras semper auctor neque vitae. Maecenas ultricies mi eget mauris. Ultricies lacus sed turpis tincidunt id aliquet risus. Sagittis eu volutpat odio facilisis mauris sit amet. Nunc vel risus commodo viverra maecenas accumsan lacus vel facilisis. Dis parturient montes nascetur ridiculus mus mauris vitae ultricies leo. Viverra adipiscing at in tellus integer feugiat scelerisque varius morbi. Etiam dignissim diam quis enim lobortis scelerisque. Netus et malesuada fames ac turpis egestas integer eget aliquet. Et netus et malesuada fames ac turpis egestas sed tempus. Pharetra sit amet aliquam id diam maecenas ultricies mi. Viverra aliquet eget sit amet tellus cras adipiscing enim. Vitae tortor condimentum lacinia quis vel eros. Morbi non arcu risus quis varius quam quisque id diam. Fusce ut placerat orci nulla pellentesque. Id diam maecenas ultricies mi eget mauris pharetra. Consectetur adipiscing elit ut aliquam purus. Sodales ut etiam sit amet nisl. Tempus iaculis urna id volutpat lacus laoreet non curabitur gravida. Posuere ac ut consequat semper. Mattis enim ut tellus elementum sagittis vitae et leo duis. Pharetra massa massa ultricies mi quis hendrerit dolor magna. Enim blandit volutpat maecenas volutpat blandit. Nisi scelerisque eu ultrices vitae auctor eu. Dolor sit amet consectetur adipiscing. Sociis natoque penatibus et magnis dis parturient. Orci dapibus ultrices in iaculis nunc sed augue lacus viverra. Aenean et tortor at risus. Neque gravida in fermentum et sollicitudin ac orci phasellus egestas. Iaculis at erat pellentesque adipiscing commodo elit at imperdiet dui. Massa eget egestas purus viverra accumsan. Blandit cursus risus at ultrices mi tempus imperdiet. Bibendum arcu vitae elementum curabitur vitae. At volutpat diam ut venenatis tellus in. Tempus urna et pharetra pharetra massa massa ultricies. Est sit amet facilisis magna etiam tempor orci. Nunc scelerisque viverra mauris in aliquam sem fringilla ut morbi. Consequat semper viverra nam libero. Aliquam nulla facilisi cras fermentum odio. Commodo elit at imperdiet dui accumsan sit. Adipiscing diam donec adipiscing tristique risus nec. Diam sollicitudin tempor id eu. Ultrices mi tempus imperdiet nulla malesuada pellentesque elit eget. Vehicula ipsum a arcu cursus vitae congue. Libero enim sed faucibus turpis in eu mi bibendum. Nibh sit amet commodo nulla facilisi nullam. Elementum facilisis leo vel fringilla est ullamcorper eget. Fermentum leo vel orci porta non pulvinar neque laoreet suspendisse. Consectetur purus ut faucibus pulvinar. Blandit turpis cursus in hac habitasse. Aliquam sem et tortor consequat id porta nibh. Aliquam purus sit amet luctus venenatis. At quis risus sed vulputate odio. Semper quis lectus nulla at volutpat diam ut. Pretium vulputate sapien nec sagittis. Aliquam vestibulum morbi blandit cursus risus at. Mauris ultrices eros in cursus. Id porta nibh venenatis cras sed felis eget velit. Lobortis feugiat vivamus at augue eget arcu dictum. Semper viverra nam libero justo laoreet sit amet cursus. Proin sagittis nisl rhoncus mattis rhoncus urna neque viverra. Massa ultricies mi quis hendrerit dolor magna eget est lorem. Adipiscing elit pellentesque habitant morbi tristique senectus et netus. Vulputate sapien nec sagittis aliquam malesuada bibendum. Egestas egestas fringilla phasellus faucibus scelerisque eleifend. Fermentum posuere urna nec tincidunt praesent semper feugiat. Sed faucibus turpis in eu mi. Tempor orci eu lobortis elementum.'"
   ]
  },
  {
   "cell_type": "code",
   "execution_count": 18,
   "metadata": {},
   "outputs": [],
   "source": [
    "complaint_status = ['Processing', 'Resolved']"
   ]
  },
  {
   "cell_type": "code",
   "execution_count": 19,
   "metadata": {},
   "outputs": [],
   "source": [
    "# Complaints table\n",
    "\n",
    "f = open(\"Complaints_Script.sql\", \"w\")\n",
    "f.write(\"INSERT INTO Complaints\\nVALUES\\n\")\n",
    "\n",
    "complaints_list = []\n",
    "for i in range(50):\n",
    "    complaint_start = random.randrange(len(complaint_str))\n",
    "    complaint_end = random.randrange(25, 75)\n",
    "    _to_add = [None]*7\n",
    "    _to_add[0] = \"Complaint_#\"+str(i)\n",
    "    _to_add[1] = complaint_str[complaint_start:complaint_start+complaint_end]\n",
    "    _to_add[2] = random.choice(complaint_status)\n",
    "    _to_add[3] = str(random_date())\n",
    "    _to_add[4] = 'Employee_' + str(random.randrange(10))\n",
    "    _to_add[5] = 'User_' + str(random.randrange(50))\n",
    "    if _to_add[2] == 'Resolved':\n",
    "        datetime_object = datetime.strptime(_to_add[3], '%Y-%m-%d %H:%M:%S')\n",
    "        \n",
    "        days = random.randrange(4)\n",
    "        hours = random.randrange(60)\n",
    "        minutes = random.randrange(60)\n",
    "        seconds = random.randrange(60)\n",
    "        \n",
    "        _to_add[6] = str(datetime_object + timedelta(days=days, \n",
    "                                                     hours=hours, \n",
    "                                                     minutes=minutes, \n",
    "                                                     seconds=seconds))\n",
    "    complaints_list.append(_to_add)\n",
    "    _to_add = str(tuple(_to_add))\n",
    "    if i == 49:\n",
    "        f.write(_to_add+\";\")\n",
    "    else:\n",
    "        f.write(_to_add+\",\\n\")\n",
    "f.close()"
   ]
  },
  {
   "cell_type": "code",
   "execution_count": 20,
   "metadata": {},
   "outputs": [],
   "source": [
    "random.shuffle(complaints_list)\n",
    "_complaint_on_shops = complaints_list[:20]\n",
    "_complaints_on_orders = complaints_list[20:]"
   ]
  },
  {
   "cell_type": "code",
   "execution_count": 21,
   "metadata": {
    "scrolled": true
   },
   "outputs": [],
   "source": [
    "# Complaints_On_Shops Table\n",
    "\n",
    "f = open(\"Complaints_On_Shops_Script.sql\", \"w\")\n",
    "f.write(\"INSERT INTO Complaints_On_Shops\\nVALUES\\n\")\n",
    "\n",
    "i = 0\n",
    "for complaint in _complaint_on_shops:\n",
    "    i += 1\n",
    "    _to_add = [None]*8\n",
    "    _to_add[0] = complaint[0]\n",
    "    _to_add[1] = complaint[3]\n",
    "    _to_add[2] = complaint[1]\n",
    "    _to_add[3] = complaint[2]\n",
    "    _to_add[4] = complaint[6]\n",
    "    _to_add[5] = complaint[4]\n",
    "    _to_add[6] = complaint[5]\n",
    "    _to_add[7] = random.choice(list(Shops.keys()))\n",
    "    if i == len(_complaint_on_shops):\n",
    "        f.write(str(tuple(_to_add))+\";\")\n",
    "    else:\n",
    "        f.write(str(tuple(_to_add))+\",\\n\")\n",
    "f.close()\n",
    "    "
   ]
  },
  {
   "cell_type": "code",
   "execution_count": 22,
   "metadata": {},
   "outputs": [],
   "source": [
    "# Complaints_On_Orders Table\n",
    "\n",
    "f = open(\"Complaints_On_Orders_Script.sql\", \"w\")\n",
    "f.write(\"INSERT INTO Complaints_On_Orders\\nVALUES\\n\")\n",
    "\n",
    "i = 0\n",
    "for complaint in _complaints_on_orders:\n",
    "    i += 1\n",
    "    _to_add = [None]*8\n",
    "    _to_add[0] = complaint[0]\n",
    "    _to_add[1] = complaint[3]\n",
    "    _to_add[2] = complaint[1]\n",
    "    _to_add[3] = complaint[2]\n",
    "    _to_add[4] = complaint[6]\n",
    "    _to_add[5] = complaint[4]\n",
    "    _to_add[6] = complaint[5]\n",
    "    _to_add[7] = \"Order_#\" + str(random.randrange(200))\n",
    "    if i == len(_complaints_on_orders):\n",
    "        f.write(str(tuple(_to_add))+\";\")\n",
    "    else:\n",
    "        f.write(str(tuple(_to_add))+\",\\n\")\n",
    "f.close()\n",
    "    "
   ]
  },
  {
   "cell_type": "code",
   "execution_count": 30,
   "metadata": {},
   "outputs": [],
   "source": [
    "from dateutil.relativedelta import relativedelta\n",
    "\n",
    "start_date = datetime(2020, 1, 1, 0, 0, 0)\n",
    "\n",
    "daterange = []\n",
    "for i in range(13):    \n",
    "    start_date += relativedelta(month=+i)\n",
    "    daterange.append(str(start_date))\n",
    "daterange = daterange[1:]"
   ]
  },
  {
   "cell_type": "code",
   "execution_count": 41,
   "metadata": {},
   "outputs": [
    {
     "name": "stdout",
     "output_type": "stream",
     "text": [
      "2020-04-01 00:00:00\n",
      "2020-04-30 00:00:00\n"
     ]
    }
   ],
   "source": [
    "a = datetime.strptime(daterange[3], '%Y-%m-%d %H:%M:%S')\n",
    "print(a)\n",
    "print(datetime.strptime(daterange[3], '%Y-%m-%d %H:%M:%S') + relativedelta(months=+1) - timedelta(days=1))"
   ]
  },
  {
   "cell_type": "code",
   "execution_count": 40,
   "metadata": {},
   "outputs": [
    {
     "data": {
      "text/plain": [
       "['2020-01-01 00:00:00',\n",
       " '2020-02-01 00:00:00',\n",
       " '2020-03-01 00:00:00',\n",
       " '2020-04-01 00:00:00',\n",
       " '2020-05-01 00:00:00',\n",
       " '2020-06-01 00:00:00',\n",
       " '2020-07-01 00:00:00',\n",
       " '2020-08-01 00:00:00',\n",
       " '2020-09-01 00:00:00',\n",
       " '2020-10-01 00:00:00',\n",
       " '2020-11-01 00:00:00',\n",
       " '2020-12-01 00:00:00']"
      ]
     },
     "execution_count": 40,
     "metadata": {},
     "output_type": "execute_result"
    }
   ],
   "source": [
    "daterange"
   ]
  },
  {
   "cell_type": "code",
   "execution_count": 44,
   "metadata": {},
   "outputs": [],
   "source": [
    "# Price_History Table\n",
    "\n",
    "f = open(\"Price_History_Script.sql\", \"w\")\n",
    "f.write(\"INSERT INTO Price_History\\nVALUES\\n\")\n",
    "\n",
    "for i in range(len(daterange)-1):\n",
    "    for shop, catalogue in Shops.items():\n",
    "        for item in catalogue:\n",
    "            _to_add = [None]*6\n",
    "            _to_add[0] = item[0]\n",
    "            _to_add[1] = shop\n",
    "            _to_add[2] = round(float(item[3])*random.uniform(0.75, 1.15), 2)\n",
    "            _to_add[3] = daterange[i]\n",
    "            _to_add[4] = str(datetime.strptime(daterange[i], '%Y-%m-%d %H:%M:%S') + relativedelta(months=+1) - timedelta(days=1))\n",
    "            _to_add[5] = item[1]\n",
    "            _to_add = tuple(_to_add)\n",
    "            f.write(str(_to_add)+\",\\n\")\n",
    "f.close()"
   ]
  },
  {
   "cell_type": "code",
   "execution_count": 21,
   "metadata": {},
   "outputs": [],
   "source": [
    "feedback_str = 'Lorem ipsum dolor sit amet, consectetur adipiscing elit, sed do eiusmod tempor incididunt ut labore et dolore magna aliqua. Eget est lorem ipsum dolor sit amet. Nisl vel pretium lectus quam id leo. Ornare arcu dui vivamus arcu felis bibendum ut tristique et. Neque egestas congue quisque egestas. Id diam maecenas ultricies mi eget mauris pharetra. Odio eu feugiat pretium nibh ipsum consequat. Semper viverra nam libero justo laoreet sit amet. Convallis a cras semper auctor neque vitae. Maecenas ultricies mi eget mauris. Ultricies lacus sed turpis tincidunt id aliquet risus. Sagittis eu volutpat odio facilisis mauris sit amet. Nunc vel risus commodo viverra maecenas accumsan lacus vel facilisis. Dis parturient montes nascetur ridiculus mus mauris vitae ultricies leo. Viverra adipiscing at in tellus integer feugiat scelerisque varius morbi. Etiam dignissim diam quis enim lobortis scelerisque. Netus et malesuada fames ac turpis egestas integer eget aliquet. Et netus et malesuada fames ac turpis egestas sed tempus. Pharetra sit amet aliquam id diam maecenas ultricies mi. Viverra aliquet eget sit amet tellus cras adipiscing enim. Vitae tortor condimentum lacinia quis vel eros. Morbi non arcu risus quis varius quam quisque id diam. Fusce ut placerat orci nulla pellentesque. Id diam maecenas ultricies mi eget mauris pharetra. Consectetur adipiscing elit ut aliquam purus. Sodales ut etiam sit amet nisl. Tempus iaculis urna id volutpat lacus laoreet non curabitur gravida. Posuere ac ut consequat semper. Mattis enim ut tellus elementum sagittis vitae et leo duis. Pharetra massa massa ultricies mi quis hendrerit dolor magna. Enim blandit volutpat maecenas volutpat blandit. Nisi scelerisque eu ultrices vitae auctor eu. Dolor sit amet consectetur adipiscing. Sociis natoque penatibus et magnis dis parturient. Orci dapibus ultrices in iaculis nunc sed augue lacus viverra. Aenean et tortor at risus. Neque gravida in fermentum et sollicitudin ac orci phasellus egestas. Iaculis at erat pellentesque adipiscing commodo elit at imperdiet dui. Massa eget egestas purus viverra accumsan. Blandit cursus risus at ultrices mi tempus imperdiet. Bibendum arcu vitae elementum curabitur vitae. At volutpat diam ut venenatis tellus in. Tempus urna et pharetra pharetra massa massa ultricies. Est sit amet facilisis magna etiam tempor orci. Nunc scelerisque viverra mauris in aliquam sem fringilla ut morbi. Consequat semper viverra nam libero. Aliquam nulla facilisi cras fermentum odio. Commodo elit at imperdiet dui accumsan sit. Adipiscing diam donec adipiscing tristique risus nec. Diam sollicitudin tempor id eu. Ultrices mi tempus imperdiet nulla malesuada pellentesque elit eget. Vehicula ipsum a arcu cursus vitae congue. Libero enim sed faucibus turpis in eu mi bibendum. Nibh sit amet commodo nulla facilisi nullam. Elementum facilisis leo vel fringilla est ullamcorper eget. Fermentum leo vel orci porta non pulvinar neque laoreet suspendisse. Consectetur purus ut faucibus pulvinar. Blandit turpis cursus in hac habitasse. Aliquam sem et tortor consequat id porta nibh. Aliquam purus sit amet luctus venenatis. At quis risus sed vulputate odio. Semper quis lectus nulla at volutpat diam ut. Pretium vulputate sapien nec sagittis. Aliquam vestibulum morbi blandit cursus risus at. Mauris ultrices eros in cursus. Id porta nibh venenatis cras sed felis eget velit. Lobortis feugiat vivamus at augue eget arcu dictum. Semper viverra nam libero justo laoreet sit amet cursus. Proin sagittis nisl rhoncus mattis rhoncus urna neque viverra. Massa ultricies mi quis hendrerit dolor magna eget est lorem. Adipiscing elit pellentesque habitant morbi tristique senectus et netus. Vulputate sapien nec sagittis aliquam malesuada bibendum. Egestas egestas fringilla phasellus faucibus scelerisque eleifend. Fermentum posuere urna nec tincidunt praesent semper feugiat. Sed faucibus turpis in eu mi. Tempor orci eu lobortis elementum.'"
   ]
  },
  {
   "cell_type": "code",
   "execution_count": 22,
   "metadata": {},
   "outputs": [],
   "source": [
    "product_name_maker_combi = []\n",
    "for i in range (50):\n",
    "    for j in range (len(Products)):\n",
    "        product_name_maker_combi.append((\"User_\"+str(i), Products[j][0]))"
   ]
  },
  {
   "cell_type": "code",
   "execution_count": 23,
   "metadata": {},
   "outputs": [],
   "source": [
    "# PIO_Feedback_Users Table\n",
    "\n",
    "f = open(\"PIO_Feedback_Users_Script.sql\", \"w\")\n",
    "f.write(\"INSERT INTO PIO_Feedback_Users\\nVALUES\\n\")\n",
    "\n",
    "for i in range(len(product_name_maker_combi)):\n",
    "    feedback_start = random.randrange(len(feedback_str))\n",
    "    feedback_end = random.randrange(25, 75)\n",
    "    _to_add = [None]*5\n",
    "    _to_add[0] = product_name_maker_combi[i][1]\n",
    "    _to_add[1] = product_name_maker_combi[i][0]\n",
    "    _to_add[2] = random.randrange(1, 6)\n",
    "    _to_add[3] = str(random_date())\n",
    "    _to_add[4] = feedback_str[feedback_start:feedback_start+feedback_end]\n",
    "    \n",
    "    _to_add = tuple(_to_add)\n",
    "    if i == len(product_name_maker_combi)-1:\n",
    "        f.write(str(_to_add)+\";\\n\")\n",
    "    else:\n",
    "        f.write(str(_to_add)+\",\\n\")\n",
    "f.close()\n"
   ]
  },
  {
   "cell_type": "code",
   "execution_count": 24,
   "metadata": {},
   "outputs": [],
   "source": [
    "dataframe = pd.DataFrame(Final_Product_in_Order, \n",
    "                         columns=['P_name', 'S_name', 'O_ID',\n",
    "                                 'Delivery_Date', 'Quantity', 'Price',\n",
    "                                 'Status', 'Maker', 'Category'])\n",
    "dataframe['Delivery_Date'] = pd.to_datetime(dataframe['Delivery_Date'])"
   ]
  },
  {
   "cell_type": "code",
   "execution_count": 31,
   "metadata": {},
   "outputs": [
    {
     "data": {
      "text/html": [
       "<div>\n",
       "<style scoped>\n",
       "    .dataframe tbody tr th:only-of-type {\n",
       "        vertical-align: middle;\n",
       "    }\n",
       "\n",
       "    .dataframe tbody tr th {\n",
       "        vertical-align: top;\n",
       "    }\n",
       "\n",
       "    .dataframe thead tr th {\n",
       "        text-align: left;\n",
       "    }\n",
       "\n",
       "    .dataframe thead tr:last-of-type th {\n",
       "        text-align: right;\n",
       "    }\n",
       "</style>\n",
       "<table border=\"1\" class=\"dataframe\">\n",
       "  <thead>\n",
       "    <tr>\n",
       "      <th></th>\n",
       "      <th>Delivery_Date</th>\n",
       "    </tr>\n",
       "    <tr>\n",
       "      <th></th>\n",
       "      <th>amin</th>\n",
       "    </tr>\n",
       "    <tr>\n",
       "      <th>O_ID</th>\n",
       "      <th></th>\n",
       "    </tr>\n",
       "  </thead>\n",
       "  <tbody>\n",
       "    <tr>\n",
       "      <td>Order_#0</td>\n",
       "      <td>NaT</td>\n",
       "    </tr>\n",
       "    <tr>\n",
       "      <td>Order_#1</td>\n",
       "      <td>2020-08-25 15:08:53</td>\n",
       "    </tr>\n",
       "    <tr>\n",
       "      <td>Order_#10</td>\n",
       "      <td>NaT</td>\n",
       "    </tr>\n",
       "    <tr>\n",
       "      <td>Order_#100</td>\n",
       "      <td>2020-12-19 20:51:35</td>\n",
       "    </tr>\n",
       "    <tr>\n",
       "      <td>Order_#101</td>\n",
       "      <td>2020-08-14 22:31:36</td>\n",
       "    </tr>\n",
       "    <tr>\n",
       "      <td>...</td>\n",
       "      <td>...</td>\n",
       "    </tr>\n",
       "    <tr>\n",
       "      <td>Order_#94</td>\n",
       "      <td>NaT</td>\n",
       "    </tr>\n",
       "    <tr>\n",
       "      <td>Order_#95</td>\n",
       "      <td>NaT</td>\n",
       "    </tr>\n",
       "    <tr>\n",
       "      <td>Order_#96</td>\n",
       "      <td>2020-08-01 18:23:48</td>\n",
       "    </tr>\n",
       "    <tr>\n",
       "      <td>Order_#97</td>\n",
       "      <td>2020-08-03 21:17:41</td>\n",
       "    </tr>\n",
       "    <tr>\n",
       "      <td>Order_#99</td>\n",
       "      <td>NaT</td>\n",
       "    </tr>\n",
       "  </tbody>\n",
       "</table>\n",
       "<p>195 rows × 1 columns</p>\n",
       "</div>"
      ],
      "text/plain": [
       "                 Delivery_Date\n",
       "                          amin\n",
       "O_ID                          \n",
       "Order_#0                   NaT\n",
       "Order_#1   2020-08-25 15:08:53\n",
       "Order_#10                  NaT\n",
       "Order_#100 2020-12-19 20:51:35\n",
       "Order_#101 2020-08-14 22:31:36\n",
       "...                        ...\n",
       "Order_#94                  NaT\n",
       "Order_#95                  NaT\n",
       "Order_#96  2020-08-01 18:23:48\n",
       "Order_#97  2020-08-03 21:17:41\n",
       "Order_#99                  NaT\n",
       "\n",
       "[195 rows x 1 columns]"
      ]
     },
     "execution_count": 31,
     "metadata": {},
     "output_type": "execute_result"
    }
   ],
   "source": [
    "import numpy as np\n",
    "gb = dataframe.groupby(['O_ID'])\n",
    "gb = gb.agg({'Delivery_Date':[np.min]})\n",
    "gb"
   ]
  },
  {
   "cell_type": "code",
   "execution_count": 56,
   "metadata": {},
   "outputs": [],
   "source": [
    "final = []\n",
    "for i in range(200):\n",
    "    cur_df = dataframe.loc[dataframe['O_ID'] == 'Order_#'+str(i)]\n",
    "    sub_days = random.randrange(5)\n",
    "    sub_hours = random.randrange(60)\n",
    "    sub_mins = random.randrange(60)\n",
    "    sub_secs = random.randrange(60)\n",
    "    date_add = str(random_date())\n",
    "    for j in range (len(cur_df)):\n",
    "        _to_add = []\n",
    "        for k in range(len(gb)):\n",
    "            if cur_df.iloc[j].O_ID == gb.iloc[k].name:\n",
    "                _to_add.append(cur_df.iloc[j].P_name)\n",
    "                _to_add.append(cur_df.iloc[j].S_name)\n",
    "                _to_add.append(cur_df.iloc[j].O_ID)\n",
    "                _to_add.append(cur_df.iloc[j].Maker)\n",
    "                if pd.isnull(gb.iloc[0][0]):\n",
    "                    _to_add.append(date_add)\n",
    "                else:\n",
    "                    _to_add.append(str(gb.iloc[k][0] - timedelta(days=sub_days,\n",
    "                                                            hours=sub_hours,\n",
    "                                                            minutes=sub_mins,\n",
    "                                                            seconds=sub_secs)))\n",
    "                final.append(tuple(_to_add))\n",
    "                break"
   ]
  },
  {
   "cell_type": "code",
   "execution_count": 58,
   "metadata": {},
   "outputs": [],
   "source": [
    "# PIO_in_Orders Table\n",
    "f = open(\"PIO_in_Orders_Script.sql\", \"w\")\n",
    "f.write(\"INSERT INTO PIO_in_Orders\\nVALUES\\n\")\n",
    "for item in final:\n",
    "    f.write(str(item)+\",\\n\")\n",
    "f.close()"
   ]
  },
  {
   "cell_type": "code",
   "execution_count": null,
   "metadata": {},
   "outputs": [],
   "source": []
  }
 ],
 "metadata": {
  "kernelspec": {
   "display_name": "Python 3",
   "language": "python",
   "name": "python3"
  },
  "language_info": {
   "codemirror_mode": {
    "name": "ipython",
    "version": 3
   },
   "file_extension": ".py",
   "mimetype": "text/x-python",
   "name": "python",
   "nbconvert_exporter": "python",
   "pygments_lexer": "ipython3",
   "version": "3.7.4"
  }
 },
 "nbformat": 4,
 "nbformat_minor": 2
}
